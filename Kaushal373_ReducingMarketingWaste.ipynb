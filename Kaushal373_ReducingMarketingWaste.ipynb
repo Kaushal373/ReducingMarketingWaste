{
 "cells": [
  {
   "cell_type": "markdown",
   "metadata": {},
   "source": [
    "\n",
    "# ABCHiring\n",
    "## Company Introduction:\n",
    "Your client for this project is ABCHiring.\n",
    "\n",
    "The organization offers a hiring assessment platform across various platforms as a cloud service.\n",
    "Their clients are organizations established in multiple sectors.\n",
    "Their product involves an automated assessment program that is used by these organizations.\n",
    "The SaaS organization finds a lot of clients through marketing their products over social media websites, blogs, and news articles.\n",
    "As a result, they spend a chunk of their revenue on various marketing initiatives - digital marketing, media outreach, search engine optimization, and more.\n",
    "\n",
    "Current Scenario\n",
    "The company is targeting a highly qualified set of customers to buy your product, the organization reaps multiple benefits, such as enhanced revenue generation, higher deal closure rates, and an increase in profit margins."
   ]
  },
  {
   "cell_type": "markdown",
   "metadata": {},
   "source": [
    "# Problem Statement : \n",
    "### The current process suffers from the following problems:\n",
    "\n",
    "One issue is that the company has been facing the challenge of reducing its yearly marketing spends.\n",
    "The company wants to figure out, if there’s a way to target a highly qualified set of customers to buy your product, the organization reaps multiple benefits, such as enhanced revenue generation, higher deal closure rates, and an increase in profit margins.\n",
    "\n",
    "The marketing department has hired you as a data science consultant. They want to supplement their campaigns with a more proactive approach.\n",
    "\n",
    "Your Role\n",
    "You are given datasets of marketing waste and their probability percentage.\n",
    "Your task is to build a regression model using the datasets.\n",
    "Because there was no machine learning model for this problem in the company, you don’t have a quantifiable win condition. You need to build the best possible model.\n",
    "\n",
    "Project Deliverables<br>\n",
    "<b>Deliverable: Predict the probability percentage of a marketing lead.</b><br>\n",
    "Machine Learning Task: <b>Regression</b><br>\n",
    "Target Variable: <b>Success_probability</b><br>\n",
    "\n",
    "Evaluation Metric\n",
    "    The model evaluation will be based on the <b>RMSE</b> score.\n"
   ]
  },
  {
   "attachments": {},
   "cell_type": "markdown",
   "metadata": {},
   "source": [
    "# DataSet Description\n",
    "\n",
    "<table>\t<th>\tColumn Name\t</th>\t<th>\tDescription\t</th>\n",
    "<tr>\t<td>\tDeal_title\t</td>\t<td>\tRepresents a unique title for each deal\t</td>\t</tr>\n",
    "<tr>\t<td>\tLead_name\t</td>\t<td>\tRepresents the name of a lead\t</td>\t</tr>\n",
    "<tr>\t<td>\tIndustry\t</td>\t<td>\tRepresents the industry that a lead belongs to\t</td>\t</tr>\n",
    "<tr>\t<td>\tDeal_value\t</td>\t<td>\tRepresents the value of a deal between a lead and your company (in Dollars)\t</td>\t</tr>\n",
    "<tr>\t<td>\tWeighted_amount\t</td>\t<td>\tRepresents a value that is estimated revenue times a probability.\t</td>\t</tr>\n",
    "<tr>\t<td>\tDate_of_creation\t</td>\t<td>\tRepresents the date when a deal's pipeline was created\t</td>\t</tr>\n",
    "<tr>\t<td>\tPitch\t</td>\t<td>\tRepresents the different types of products that your company offers to a lead\t</td>\t</tr>\n",
    "<tr>\t<td>\tContact_no\t</td>\t<td>\tRepresents the contact details of a lead (masked)\t</td>\t</tr>\n",
    "<tr>\t<td>\tLead_revenue\t</td>\t<td>\tRepresents the lead company's revenue (in Dollars)\t</td>\t</tr>\n",
    "<tr>\t<td>\tFund_category\t</td>\t<td>\tRepresents the type of funding that a lead possesses\t</td>\t</tr>\n",
    "<tr>\t<td>\tGeography\t</td>\t<td>\tRepresents the geographical location of a lead (country)\t</td>\t</tr>\n",
    "<tr>\t<td>\tLocation\t</td>\t<td>\tRepresents the geographical location of a lead (state or city)\t</td>\t</tr>\n",
    "<tr>\t<td>\tPOC_name\t</td>\t<td>\tRepresents the lead's point of contact's name\t</td>\t</tr>\n",
    "<tr>\t<td>\tDesignation\t</td>\t<td>\tRepresents the lead POC's designation\t</td>\t</tr>\n",
    "<tr>\t<td>\tLead_POC_email\t</td>\t<td>\tRepresents the lead POC's email address\t</td>\t</tr>\n",
    "<tr>\t<td>\tHiring_candidate_role\t</td>\t<td>\tRepresents the job role that a lead wants to hire\t</td>\t</tr>\n",
    "<tr>\t<td>\tLead_source\t</td>\t<td>\tRepresents the source from which the lead is generated\t</td>\t</tr>\n",
    "<tr>\t<td>\tLevel_of_meeting\t</td>\t<td>\tRepresents the level of a meeting with the lead.\t</td>\t</tr>\n",
    "<tr>\t<td>\tLast_lead_update\t</td>\t<td>\tRepresents the communication update between a lead and your company\t</td>\t</tr>\n",
    "<tr>\t<td>\tInternal_POC\t</td>\t<td>\tRepresents the name of the employee who has generated the lead\t</td>\t</tr>\n",
    "<tr>\t<td>\tResource\t</td>\t<td>\tRepresents whether your company has enough resources to satisfy a lead's requirements\t</td>\t</tr>\n",
    "<tr>\t<td>\tInternal_rating\t</td>\t<td>\tRepresents a rating (1-5) given to a lead\t</td>\t</tr>\n",
    "<tr>\t<td>\tSuccess_probability\t</td>\t<td>\tRepresents the probability that a lead will buy a product or onboard\t</td>\t</tr>\n",
    "</table>"
   ]
  },
  {
   "cell_type": "code",
   "execution_count": 4,
   "metadata": {},
   "outputs": [],
   "source": [
    "# Importing Important Libraries\n",
    "\n",
    "import pandas as pd\n",
    "import numpy as np\n",
    "import matplotlib.pyplot as plt\n",
    "%matplotlib inline\n",
    "import seaborn as sns\n",
    "\n",
    "import warnings\n",
    "warnings.filterwarnings('ignore')\n",
    "\n",
    "import dtale\n",
    "\n",
    "\n",
    "from sklearn.model_selection import cross_val_score,train_test_split,GridSearchCV\n",
    "from sklearn.metrics import mean_squared_error\n",
    "from sklearn.preprocessing import StandardScaler\n",
    "\n",
    "from sklearn.linear_model import LinearRegression\n",
    "from sklearn.tree import DecisionTreeRegressor\n",
    "from sklearn.ensemble import RandomForestRegressor, GradientBoostingRegressor, AdaBoostRegressor"
   ]
  },
  {
   "cell_type": "code",
   "execution_count": 5,
   "metadata": {},
   "outputs": [
    {
     "data": {
      "text/plain": [
       "(5605, 23)"
      ]
     },
     "execution_count": 5,
     "metadata": {},
     "output_type": "execute_result"
    }
   ],
   "source": [
    "train_data = pd.read_csv('train_data.csv')\n",
    "train_data.shape"
   ]
  },
  {
   "cell_type": "code",
   "execution_count": 6,
   "metadata": {},
   "outputs": [
    {
     "name": "stdout",
     "output_type": "stream",
     "text": [
      "<class 'pandas.core.frame.DataFrame'>\n",
      "RangeIndex: 5605 entries, 0 to 5604\n",
      "Data columns (total 23 columns):\n",
      " #   Column                 Non-Null Count  Dtype  \n",
      "---  ------                 --------------  -----  \n",
      " 0   Deal_title             5605 non-null   object \n",
      " 1   Lead_name              5605 non-null   object \n",
      " 2   Industry               5604 non-null   object \n",
      " 3   Deal_value             5565 non-null   object \n",
      " 4   Weighted_amount        5182 non-null   object \n",
      " 5   Date_of_creation       5605 non-null   object \n",
      " 6   Pitch                  5605 non-null   object \n",
      " 7   Contact_no             5605 non-null   object \n",
      " 8   Lead_revenue           5605 non-null   object \n",
      " 9   Fund_category          5605 non-null   object \n",
      " 10  Geography              4815 non-null   object \n",
      " 11  Location               5596 non-null   object \n",
      " 12  POC_name               5599 non-null   object \n",
      " 13  Designation            5605 non-null   object \n",
      " 14  Lead_POC_email         5605 non-null   object \n",
      " 15  Hiring_candidate_role  5605 non-null   object \n",
      " 16  Lead_source            5605 non-null   object \n",
      " 17  Level_of_meeting       5605 non-null   object \n",
      " 18  Last_lead_update       5107 non-null   object \n",
      " 19  Internal_POC           5605 non-null   object \n",
      " 20  Resource               5494 non-null   object \n",
      " 21  Internal_rating        5605 non-null   int64  \n",
      " 22  Success_probability    5605 non-null   float64\n",
      "dtypes: float64(1), int64(1), object(21)\n",
      "memory usage: 1007.3+ KB\n"
     ]
    }
   ],
   "source": [
    "train_data.info()"
   ]
  },
  {
   "cell_type": "code",
   "execution_count": 7,
   "metadata": {},
   "outputs": [
    {
     "data": {
      "text/html": [
       "<div>\n",
       "<style scoped>\n",
       "    .dataframe tbody tr th:only-of-type {\n",
       "        vertical-align: middle;\n",
       "    }\n",
       "\n",
       "    .dataframe tbody tr th {\n",
       "        vertical-align: top;\n",
       "    }\n",
       "\n",
       "    .dataframe thead th {\n",
       "        text-align: right;\n",
       "    }\n",
       "</style>\n",
       "<table border=\"1\" class=\"dataframe\">\n",
       "  <thead>\n",
       "    <tr style=\"text-align: right;\">\n",
       "      <th></th>\n",
       "      <th>Internal_rating</th>\n",
       "      <th>Success_probability</th>\n",
       "    </tr>\n",
       "  </thead>\n",
       "  <tbody>\n",
       "    <tr>\n",
       "      <th>count</th>\n",
       "      <td>5605.000000</td>\n",
       "      <td>5605.000000</td>\n",
       "    </tr>\n",
       "    <tr>\n",
       "      <th>mean</th>\n",
       "      <td>3.014630</td>\n",
       "      <td>64.743536</td>\n",
       "    </tr>\n",
       "    <tr>\n",
       "      <th>std</th>\n",
       "      <td>1.413885</td>\n",
       "      <td>17.919659</td>\n",
       "    </tr>\n",
       "    <tr>\n",
       "      <th>min</th>\n",
       "      <td>1.000000</td>\n",
       "      <td>-5.000000</td>\n",
       "    </tr>\n",
       "    <tr>\n",
       "      <th>25%</th>\n",
       "      <td>2.000000</td>\n",
       "      <td>60.500000</td>\n",
       "    </tr>\n",
       "    <tr>\n",
       "      <th>50%</th>\n",
       "      <td>3.000000</td>\n",
       "      <td>65.200000</td>\n",
       "    </tr>\n",
       "    <tr>\n",
       "      <th>75%</th>\n",
       "      <td>4.000000</td>\n",
       "      <td>69.600000</td>\n",
       "    </tr>\n",
       "    <tr>\n",
       "      <th>max</th>\n",
       "      <td>5.000000</td>\n",
       "      <td>107.340000</td>\n",
       "    </tr>\n",
       "  </tbody>\n",
       "</table>\n",
       "</div>"
      ],
      "text/plain": [
       "       Internal_rating  Success_probability\n",
       "count      5605.000000          5605.000000\n",
       "mean          3.014630            64.743536\n",
       "std           1.413885            17.919659\n",
       "min           1.000000            -5.000000\n",
       "25%           2.000000            60.500000\n",
       "50%           3.000000            65.200000\n",
       "75%           4.000000            69.600000\n",
       "max           5.000000           107.340000"
      ]
     },
     "execution_count": 7,
     "metadata": {},
     "output_type": "execute_result"
    }
   ],
   "source": [
    "train_data.describe()"
   ]
  },
  {
   "cell_type": "code",
   "execution_count": 8,
   "metadata": {},
   "outputs": [
    {
     "data": {
      "text/plain": [
       "True"
      ]
     },
     "execution_count": 8,
     "metadata": {},
     "output_type": "execute_result"
    }
   ],
   "source": [
    "train_data.isnull().sum().any()"
   ]
  },
  {
   "cell_type": "code",
   "execution_count": 9,
   "metadata": {},
   "outputs": [
    {
     "data": {
      "text/plain": [
       "(1402, 22)"
      ]
     },
     "execution_count": 9,
     "metadata": {},
     "output_type": "execute_result"
    }
   ],
   "source": [
    "test_data = pd.read_csv('test_data.csv')\n",
    "test_data.shape"
   ]
  },
  {
   "cell_type": "code",
   "execution_count": 10,
   "metadata": {},
   "outputs": [
    {
     "name": "stderr",
     "output_type": "stream",
     "text": [
      "2021-11-16 18:27:48,238 - INFO     - NumExpr defaulting to 4 threads.\n"
     ]
    }
   ],
   "source": [
    "d = dtale.show(data=train_data)\n",
    "d.open_browser()"
   ]
  },
  {
   "cell_type": "code",
   "execution_count": 12,
   "metadata": {},
   "outputs": [
    {
     "data": {
      "text/plain": [
       "Index(['Deal_title', 'Lead_name', 'Industry', 'Deal_value', 'Weighted_amount',\n",
       "       'Date_of_creation', 'Pitch', 'Contact_no', 'Lead_revenue',\n",
       "       'Fund_category', 'Geography', 'Location', 'POC_name', 'Designation',\n",
       "       'Lead_POC_email', 'Hiring_candidate_role', 'Lead_source',\n",
       "       'Level_of_meeting', 'Last_lead_update', 'Internal_POC', 'Resource',\n",
       "       'Internal_rating', 'Success_probability'],\n",
       "      dtype='object')"
      ]
     },
     "execution_count": 12,
     "metadata": {},
     "output_type": "execute_result"
    }
   ],
   "source": [
    "train_data.columns"
   ]
  },
  {
   "cell_type": "code",
   "execution_count": 37,
   "metadata": {},
   "outputs": [],
   "source": [
    "# Columns with not relevant Description and same can be dropped \n",
    "TobeDropped_Cols =['Deal_title', 'Lead_name', 'Industry','Date_of_creation', 'Geography', 'Location', 'POC_name', 'Lead_POC_email','Designation','Contact_no','Internal_POC','Hiring_candidate_role','Last_lead_update']\n",
    "\n"
   ]
  },
  {
   "cell_type": "code",
   "execution_count": 38,
   "metadata": {},
   "outputs": [],
   "source": [
    "train_data1 = train_data.drop(TobeDropped_Cols,axis=1)"
   ]
  },
  {
   "cell_type": "code",
   "execution_count": 39,
   "metadata": {},
   "outputs": [
    {
     "data": {
      "text/plain": [
       "Index(['Deal_value', 'Weighted_amount', 'Pitch', 'Lead_revenue',\n",
       "       'Fund_category', 'Lead_source', 'Level_of_meeting', 'Resource',\n",
       "       'Internal_rating', 'Success_probability'],\n",
       "      dtype='object')"
      ]
     },
     "execution_count": 39,
     "metadata": {},
     "output_type": "execute_result"
    }
   ],
   "source": [
    "train_data1.columns"
   ]
  },
  {
   "cell_type": "code",
   "execution_count": 40,
   "metadata": {},
   "outputs": [],
   "source": [
    "train_data1['Deal_value']=train_data1['Deal_value'].str.replace(\"$\",\"\").astype(float)\n",
    "train_data1['Weighted_amount']=train_data1['Weighted_amount'].str.replace(\"$\",\"\").astype(float)"
   ]
  },
  {
   "cell_type": "code",
   "execution_count": 41,
   "metadata": {},
   "outputs": [
    {
     "name": "stdout",
     "output_type": "stream",
     "text": [
      "<class 'pandas.core.frame.DataFrame'>\n",
      "RangeIndex: 5605 entries, 0 to 5604\n",
      "Data columns (total 10 columns):\n",
      " #   Column               Non-Null Count  Dtype  \n",
      "---  ------               --------------  -----  \n",
      " 0   Deal_value           5565 non-null   float64\n",
      " 1   Weighted_amount      5182 non-null   float64\n",
      " 2   Pitch                5605 non-null   object \n",
      " 3   Lead_revenue         5605 non-null   object \n",
      " 4   Fund_category        5605 non-null   object \n",
      " 5   Lead_source          5605 non-null   object \n",
      " 6   Level_of_meeting     5605 non-null   object \n",
      " 7   Resource             5494 non-null   object \n",
      " 8   Internal_rating      5605 non-null   int64  \n",
      " 9   Success_probability  5605 non-null   float64\n",
      "dtypes: float64(3), int64(1), object(6)\n",
      "memory usage: 438.0+ KB\n"
     ]
    }
   ],
   "source": [
    "train_data1.info()"
   ]
  },
  {
   "cell_type": "code",
   "execution_count": 61,
   "metadata": {},
   "outputs": [],
   "source": [
    "Missingcolumns = train_data1[train_data1.columns[train_data1.isnull().sum()>0]].columns"
   ]
  },
  {
   "cell_type": "code",
   "execution_count": 62,
   "metadata": {},
   "outputs": [
    {
     "data": {
      "text/plain": [
       "Index(['Deal_value', 'Weighted_amount', 'Resource'], dtype='object')"
      ]
     },
     "execution_count": 62,
     "metadata": {},
     "output_type": "execute_result"
    }
   ],
   "source": [
    "Missingcolumns"
   ]
  },
  {
   "cell_type": "code",
   "execution_count": 64,
   "metadata": {},
   "outputs": [],
   "source": [
    "train_data1['Deal_value'].fillna(train_data1['Deal_value'].median(),inplace=True)\n",
    "train_data1['Weighted_amount'].fillna(train_data1['Weighted_amount'].median(),inplace=True)\n",
    "train_data1['Resource'].fillna(train_data1['Resource'].mode()[0],inplace=True)"
   ]
  },
  {
   "cell_type": "code",
   "execution_count": 65,
   "metadata": {},
   "outputs": [
    {
     "name": "stdout",
     "output_type": "stream",
     "text": [
      "<class 'pandas.core.frame.DataFrame'>\n",
      "RangeIndex: 5605 entries, 0 to 5604\n",
      "Data columns (total 10 columns):\n",
      " #   Column               Non-Null Count  Dtype  \n",
      "---  ------               --------------  -----  \n",
      " 0   Deal_value           5605 non-null   float64\n",
      " 1   Weighted_amount      5605 non-null   float64\n",
      " 2   Pitch                5605 non-null   object \n",
      " 3   Lead_revenue         5605 non-null   object \n",
      " 4   Fund_category        5605 non-null   object \n",
      " 5   Lead_source          5605 non-null   object \n",
      " 6   Level_of_meeting     5605 non-null   object \n",
      " 7   Resource             5605 non-null   object \n",
      " 8   Internal_rating      5605 non-null   int64  \n",
      " 9   Success_probability  5605 non-null   float64\n",
      "dtypes: float64(3), int64(1), object(6)\n",
      "memory usage: 438.0+ KB\n"
     ]
    }
   ],
   "source": [
    "train_data1.info()"
   ]
  },
  {
   "cell_type": "code",
   "execution_count": 67,
   "metadata": {},
   "outputs": [
    {
     "data": {
      "text/html": [
       "<div>\n",
       "<style scoped>\n",
       "    .dataframe tbody tr th:only-of-type {\n",
       "        vertical-align: middle;\n",
       "    }\n",
       "\n",
       "    .dataframe tbody tr th {\n",
       "        vertical-align: top;\n",
       "    }\n",
       "\n",
       "    .dataframe thead th {\n",
       "        text-align: right;\n",
       "    }\n",
       "</style>\n",
       "<table border=\"1\" class=\"dataframe\">\n",
       "  <thead>\n",
       "    <tr style=\"text-align: right;\">\n",
       "      <th></th>\n",
       "      <th>Deal_value</th>\n",
       "      <th>Weighted_amount</th>\n",
       "      <th>Internal_rating</th>\n",
       "      <th>Success_probability</th>\n",
       "    </tr>\n",
       "  </thead>\n",
       "  <tbody>\n",
       "    <tr>\n",
       "      <th>count</th>\n",
       "      <td>5605.000000</td>\n",
       "      <td>5.605000e+03</td>\n",
       "      <td>5605.000000</td>\n",
       "      <td>5605.000000</td>\n",
       "    </tr>\n",
       "    <tr>\n",
       "      <th>mean</th>\n",
       "      <td>249954.200178</td>\n",
       "      <td>1.567746e+06</td>\n",
       "      <td>3.014630</td>\n",
       "      <td>64.743536</td>\n",
       "    </tr>\n",
       "    <tr>\n",
       "      <th>std</th>\n",
       "      <td>143708.418120</td>\n",
       "      <td>8.825782e+05</td>\n",
       "      <td>1.413885</td>\n",
       "      <td>17.919659</td>\n",
       "    </tr>\n",
       "    <tr>\n",
       "      <th>min</th>\n",
       "      <td>1551.000000</td>\n",
       "      <td>8.708000e+03</td>\n",
       "      <td>1.000000</td>\n",
       "      <td>-5.000000</td>\n",
       "    </tr>\n",
       "    <tr>\n",
       "      <th>25%</th>\n",
       "      <td>124041.000000</td>\n",
       "      <td>8.264186e+05</td>\n",
       "      <td>2.000000</td>\n",
       "      <td>60.500000</td>\n",
       "    </tr>\n",
       "    <tr>\n",
       "      <th>50%</th>\n",
       "      <td>247115.000000</td>\n",
       "      <td>1.547724e+06</td>\n",
       "      <td>3.000000</td>\n",
       "      <td>65.200000</td>\n",
       "    </tr>\n",
       "    <tr>\n",
       "      <th>75%</th>\n",
       "      <td>374870.000000</td>\n",
       "      <td>2.283788e+06</td>\n",
       "      <td>4.000000</td>\n",
       "      <td>69.600000</td>\n",
       "    </tr>\n",
       "    <tr>\n",
       "      <th>max</th>\n",
       "      <td>500000.000000</td>\n",
       "      <td>3.598068e+06</td>\n",
       "      <td>5.000000</td>\n",
       "      <td>107.340000</td>\n",
       "    </tr>\n",
       "  </tbody>\n",
       "</table>\n",
       "</div>"
      ],
      "text/plain": [
       "          Deal_value  Weighted_amount  Internal_rating  Success_probability\n",
       "count    5605.000000     5.605000e+03      5605.000000          5605.000000\n",
       "mean   249954.200178     1.567746e+06         3.014630            64.743536\n",
       "std    143708.418120     8.825782e+05         1.413885            17.919659\n",
       "min      1551.000000     8.708000e+03         1.000000            -5.000000\n",
       "25%    124041.000000     8.264186e+05         2.000000            60.500000\n",
       "50%    247115.000000     1.547724e+06         3.000000            65.200000\n",
       "75%    374870.000000     2.283788e+06         4.000000            69.600000\n",
       "max    500000.000000     3.598068e+06         5.000000           107.340000"
      ]
     },
     "execution_count": 67,
     "metadata": {},
     "output_type": "execute_result"
    }
   ],
   "source": [
    "train_data1.describe()"
   ]
  },
  {
   "cell_type": "code",
   "execution_count": 68,
   "metadata": {},
   "outputs": [],
   "source": [
    "from xverse.transformer import WOE"
   ]
  },
  {
   "cell_type": "code",
   "execution_count": 71,
   "metadata": {},
   "outputs": [
    {
     "data": {
      "text/plain": [
       "<seaborn.axisgrid.PairGrid at 0x26db3152d90>"
      ]
     },
     "execution_count": 71,
     "metadata": {},
     "output_type": "execute_result"
    },
    {
     "data": {
      "image/png": "[encoded data removed]",
      "text/plain": [
       "<Figure size 720x720 with 20 Axes>"
      ]
     },
     "metadata": {
      "needs_background": "light"
     },
     "output_type": "display_data"
    }
   ],
   "source": [
    "sns.pairplot(data=train_data1)"
   ]
  },
  {
   "cell_type": "code",
   "execution_count": 75,
   "metadata": {},
   "outputs": [
    {
     "name": "stdout",
     "output_type": "stream",
     "text": [
      "(5605, 9) (5605,)\n"
     ]
    }
   ],
   "source": [
    "# Dataworking\n",
    "X=train_data1.drop('Success_probability',axis=1)\n",
    "y=train_data1['Success_probability']\n",
    "print(X.shape,y.shape)"
   ]
  },
  {
   "cell_type": "code",
   "execution_count": 78,
   "metadata": {},
   "outputs": [],
   "source": [
    "X = pd.get_dummies(X,drop_first=True)"
   ]
  },
  {
   "cell_type": "code",
   "execution_count": 83,
   "metadata": {},
   "outputs": [
    {
     "name": "stdout",
     "output_type": "stream",
     "text": [
      "(4484, 19) (4484,) (1121, 19) (1121,)\n"
     ]
    }
   ],
   "source": [
    "## Splitting Data in to Train and Test\n",
    "X_train,X_test,y_train,y_test = train_test_split(X,y,test_size=0.2,random_state=42)\n",
    "print(X_train.shape,y_train.shape,X_test.shape,y_test.shape)"
   ]
  },
  {
   "cell_type": "code",
   "execution_count": 84,
   "metadata": {},
   "outputs": [
    {
     "data": {
      "text/html": [
       "<div>\n",
       "<style scoped>\n",
       "    .dataframe tbody tr th:only-of-type {\n",
       "        vertical-align: middle;\n",
       "    }\n",
       "\n",
       "    .dataframe tbody tr th {\n",
       "        vertical-align: top;\n",
       "    }\n",
       "\n",
       "    .dataframe thead th {\n",
       "        text-align: right;\n",
       "    }\n",
       "</style>\n",
       "<table border=\"1\" class=\"dataframe\">\n",
       "  <thead>\n",
       "    <tr style=\"text-align: right;\">\n",
       "      <th></th>\n",
       "      <th>Deal_value</th>\n",
       "      <th>Weighted_amount</th>\n",
       "      <th>Internal_rating</th>\n",
       "      <th>Pitch_Product_2</th>\n",
       "      <th>Lead_revenue_50 - 100 Million</th>\n",
       "      <th>Lead_revenue_500 Million - 1 Billion</th>\n",
       "      <th>Fund_category_Category 2</th>\n",
       "      <th>Fund_category_Category 3</th>\n",
       "      <th>Fund_category_Category 4</th>\n",
       "      <th>Lead_source_Marketing Event</th>\n",
       "      <th>Lead_source_Others</th>\n",
       "      <th>Lead_source_Website</th>\n",
       "      <th>Level_of_meeting_Level 2</th>\n",
       "      <th>Level_of_meeting_Level 3</th>\n",
       "      <th>Resource_Deliverable</th>\n",
       "      <th>Resource_No</th>\n",
       "      <th>Resource_Not enough</th>\n",
       "      <th>Resource_We have all the requirements</th>\n",
       "      <th>Resource_Yes</th>\n",
       "    </tr>\n",
       "  </thead>\n",
       "  <tbody>\n",
       "    <tr>\n",
       "      <th>3732</th>\n",
       "      <td>-0.681890</td>\n",
       "      <td>-0.682774</td>\n",
       "      <td>-1.421181</td>\n",
       "      <td>-1.0</td>\n",
       "      <td>-0.695194</td>\n",
       "      <td>-0.710066</td>\n",
       "      <td>-0.581814</td>\n",
       "      <td>1.677178</td>\n",
       "      <td>-0.556742</td>\n",
       "      <td>-0.600708</td>\n",
       "      <td>-0.588339</td>\n",
       "      <td>-0.552617</td>\n",
       "      <td>-0.694488</td>\n",
       "      <td>1.429730</td>\n",
       "      <td>-0.434102</td>\n",
       "      <td>2.048372</td>\n",
       "      <td>-0.442418</td>\n",
       "      <td>-0.444938</td>\n",
       "      <td>-0.432286</td>\n",
       "    </tr>\n",
       "    <tr>\n",
       "      <th>2104</th>\n",
       "      <td>1.088135</td>\n",
       "      <td>0.916045</td>\n",
       "      <td>-1.421181</td>\n",
       "      <td>-1.0</td>\n",
       "      <td>1.438447</td>\n",
       "      <td>-0.710066</td>\n",
       "      <td>-0.581814</td>\n",
       "      <td>1.677178</td>\n",
       "      <td>-0.556742</td>\n",
       "      <td>1.664703</td>\n",
       "      <td>-0.588339</td>\n",
       "      <td>-0.552617</td>\n",
       "      <td>1.439909</td>\n",
       "      <td>-0.699433</td>\n",
       "      <td>-0.434102</td>\n",
       "      <td>-0.488193</td>\n",
       "      <td>-0.442418</td>\n",
       "      <td>2.247506</td>\n",
       "      <td>-0.432286</td>\n",
       "    </tr>\n",
       "    <tr>\n",
       "      <th>2815</th>\n",
       "      <td>0.707462</td>\n",
       "      <td>0.973429</td>\n",
       "      <td>1.411704</td>\n",
       "      <td>1.0</td>\n",
       "      <td>-0.695194</td>\n",
       "      <td>1.408320</td>\n",
       "      <td>-0.581814</td>\n",
       "      <td>-0.596240</td>\n",
       "      <td>-0.556742</td>\n",
       "      <td>1.664703</td>\n",
       "      <td>-0.588339</td>\n",
       "      <td>-0.552617</td>\n",
       "      <td>-0.694488</td>\n",
       "      <td>-0.699433</td>\n",
       "      <td>-0.434102</td>\n",
       "      <td>2.048372</td>\n",
       "      <td>-0.442418</td>\n",
       "      <td>-0.444938</td>\n",
       "      <td>-0.432286</td>\n",
       "    </tr>\n",
       "    <tr>\n",
       "      <th>5271</th>\n",
       "      <td>0.885076</td>\n",
       "      <td>0.744103</td>\n",
       "      <td>0.703483</td>\n",
       "      <td>-1.0</td>\n",
       "      <td>-0.695194</td>\n",
       "      <td>1.408320</td>\n",
       "      <td>-0.581814</td>\n",
       "      <td>1.677178</td>\n",
       "      <td>-0.556742</td>\n",
       "      <td>-0.600708</td>\n",
       "      <td>-0.588339</td>\n",
       "      <td>-0.552617</td>\n",
       "      <td>-0.694488</td>\n",
       "      <td>-0.699433</td>\n",
       "      <td>-0.434102</td>\n",
       "      <td>-0.488193</td>\n",
       "      <td>-0.442418</td>\n",
       "      <td>-0.444938</td>\n",
       "      <td>-0.432286</td>\n",
       "    </tr>\n",
       "    <tr>\n",
       "      <th>4439</th>\n",
       "      <td>-1.541476</td>\n",
       "      <td>-1.606867</td>\n",
       "      <td>-1.421181</td>\n",
       "      <td>-1.0</td>\n",
       "      <td>-0.695194</td>\n",
       "      <td>1.408320</td>\n",
       "      <td>-0.581814</td>\n",
       "      <td>1.677178</td>\n",
       "      <td>-0.556742</td>\n",
       "      <td>-0.600708</td>\n",
       "      <td>1.699702</td>\n",
       "      <td>-0.552617</td>\n",
       "      <td>-0.694488</td>\n",
       "      <td>-0.699433</td>\n",
       "      <td>2.303608</td>\n",
       "      <td>-0.488193</td>\n",
       "      <td>-0.442418</td>\n",
       "      <td>-0.444938</td>\n",
       "      <td>-0.432286</td>\n",
       "    </tr>\n",
       "  </tbody>\n",
       "</table>\n",
       "</div>"
      ],
      "text/plain": [
       "      Deal_value  Weighted_amount  Internal_rating  Pitch_Product_2  \\\n",
       "3732   -0.681890        -0.682774        -1.421181             -1.0   \n",
       "2104    1.088135         0.916045        -1.421181             -1.0   \n",
       "2815    0.707462         0.973429         1.411704              1.0   \n",
       "5271    0.885076         0.744103         0.703483             -1.0   \n",
       "4439   -1.541476        -1.606867        -1.421181             -1.0   \n",
       "\n",
       "      Lead_revenue_50 - 100 Million  Lead_revenue_500 Million - 1 Billion  \\\n",
       "3732                      -0.695194                             -0.710066   \n",
       "2104                       1.438447                             -0.710066   \n",
       "2815                      -0.695194                              1.408320   \n",
       "5271                      -0.695194                              1.408320   \n",
       "4439                      -0.695194                              1.408320   \n",
       "\n",
       "      Fund_category_Category 2  Fund_category_Category 3  \\\n",
       "3732                 -0.581814                  1.677178   \n",
       "2104                 -0.581814                  1.677178   \n",
       "2815                 -0.581814                 -0.596240   \n",
       "5271                 -0.581814                  1.677178   \n",
       "4439                 -0.581814                  1.677178   \n",
       "\n",
       "      Fund_category_Category 4  Lead_source_Marketing Event  \\\n",
       "3732                 -0.556742                    -0.600708   \n",
       "2104                 -0.556742                     1.664703   \n",
       "2815                 -0.556742                     1.664703   \n",
       "5271                 -0.556742                    -0.600708   \n",
       "4439                 -0.556742                    -0.600708   \n",
       "\n",
       "      Lead_source_Others  Lead_source_Website  Level_of_meeting_Level 2  \\\n",
       "3732           -0.588339            -0.552617                 -0.694488   \n",
       "2104           -0.588339            -0.552617                  1.439909   \n",
       "2815           -0.588339            -0.552617                 -0.694488   \n",
       "5271           -0.588339            -0.552617                 -0.694488   \n",
       "4439            1.699702            -0.552617                 -0.694488   \n",
       "\n",
       "      Level_of_meeting_Level 3  Resource_Deliverable  Resource_No  \\\n",
       "3732                  1.429730             -0.434102     2.048372   \n",
       "2104                 -0.699433             -0.434102    -0.488193   \n",
       "2815                 -0.699433             -0.434102     2.048372   \n",
       "5271                 -0.699433             -0.434102    -0.488193   \n",
       "4439                 -0.699433              2.303608    -0.488193   \n",
       "\n",
       "      Resource_Not enough  Resource_We have all the requirements  Resource_Yes  \n",
       "3732            -0.442418                              -0.444938     -0.432286  \n",
       "2104            -0.442418                               2.247506     -0.432286  \n",
       "2815            -0.442418                              -0.444938     -0.432286  \n",
       "5271            -0.442418                              -0.444938     -0.432286  \n",
       "4439            -0.442418                              -0.444938     -0.432286  "
      ]
     },
     "execution_count": 84,
     "metadata": {},
     "output_type": "execute_result"
    }
   ],
   "source": [
    "SS = StandardScaler()\n",
    "X_train[X_train.columns] = SS.fit_transform(X_train)\n",
    "X_test[X_test.columns] = SS.transform(X_test)\n",
    "X_test.head()"
   ]
  },
  {
   "cell_type": "markdown",
   "metadata": {},
   "source": [
    "## Model 1 - Linear Regression"
   ]
  },
  {
   "cell_type": "code",
   "execution_count": 88,
   "metadata": {},
   "outputs": [
    {
     "name": "stdout",
     "output_type": "stream",
     "text": [
      "17.950827786233074\n",
      "16.67234009168478\n"
     ]
    }
   ],
   "source": [
    "LR = LinearRegression()\n",
    "LR.fit(X_train,y_train)\n",
    "LR_Train = LR.predict(X_train)\n",
    "LR_Test = LR.predict(X_test)\n",
    "print(np.sqrt(mean_squared_error(y_train,LR_Train)))\n",
    "print(np.sqrt(mean_squared_error(y_test,LR_Test)))"
   ]
  },
  {
   "cell_type": "markdown",
   "metadata": {},
   "source": [
    "## Model 2 - Decision Tree Regressor"
   ]
  },
  {
   "cell_type": "code",
   "execution_count": 143,
   "metadata": {},
   "outputs": [
    {
     "name": "stdout",
     "output_type": "stream",
     "text": [
      "{'max_depth': 1}\n",
      "18.10703490712685\n",
      "16.79827246381234\n"
     ]
    }
   ],
   "source": [
    "GSV1 =GridSearchCV(estimator=DecisionTreeRegressor(),cv=10,param_grid=dict(max_depth=[1,2,3,4,5,6,7,8,9,10,11])) \n",
    "GSV1.fit(X_train,y_train)\n",
    "print(GSV1.best_params_)\n",
    "DT = DecisionTreeRegressor(max_depth=1,random_state=42)\n",
    "DT.fit(X_train,y_train)\n",
    "DT_Train = DT.predict(X_train)\n",
    "DT_Test = DT.predict(X_test)\n",
    "print(np.sqrt(mean_squared_error(y_train,DT_Train)))\n",
    "print(np.sqrt(mean_squared_error(y_test,DT_Test)))"
   ]
  },
  {
   "cell_type": "markdown",
   "metadata": {},
   "source": [
    "## Model 3 - Random Forest Regressor"
   ]
  },
  {
   "cell_type": "code",
   "execution_count": 141,
   "metadata": {},
   "outputs": [
    {
     "name": "stdout",
     "output_type": "stream",
     "text": [
      "6.949220527886931\n",
      "17.664487961196105\n"
     ]
    }
   ],
   "source": [
    "'''from sklearn.metrics import make_scorer,mean_squared_error\n",
    "mse = make_scorer(mean_squared_error,greater_is_better=False)\n",
    "GSV2 =GridSearchCV(estimator=RandomForestRegressor(),cv=10,param_grid=dict(n_estimators=np.arange(100,500,100)),scoring=mse) \n",
    "GSV2.fit(X_train,y_train)\n",
    "print(GSV2.best_params_)'''\n",
    "RF = RandomForestRegressor(n_estimators=309,random_state=42)\n",
    "RF.fit(X_train,y_train)\n",
    "RF_Train = RF.predict(X_train)\n",
    "RF_Test = RF.predict(X_test)\n",
    "print(np.sqrt(mean_squared_error(y_train,RF_Train)))\n",
    "print(np.sqrt(mean_squared_error(y_test,RF_Test)))"
   ]
  },
  {
   "cell_type": "markdown",
   "metadata": {},
   "source": [
    "## Model 4 - Gradient Boosting Regressor"
   ]
  },
  {
   "cell_type": "code",
   "execution_count": 130,
   "metadata": {},
   "outputs": [
    {
     "name": "stdout",
     "output_type": "stream",
     "text": [
      "17.824383600056894\n",
      "16.751575163400833\n"
     ]
    }
   ],
   "source": [
    "'''from sklearn.metrics import make_scorer,mean_squared_error\n",
    "mse = make_scorer(mean_squared_error,greater_is_better=False)\n",
    "GSV3 =GridSearchCV(estimator=GradientBoostingRegressor(),cv=10,param_grid=dict(n_estimators=np.arange(17,25,1)),scoring=mse) \n",
    "GSV3.fit(X_train,y_train)\n",
    "print(GSV3.best_params_)'''\n",
    "GB = GradientBoostingRegressor(n_estimators=19,random_state=42)\n",
    "GB.fit(X_train,y_train)\n",
    "GB_Train = GB.predict(X_train)\n",
    "GB_Test = GB.predict(X_test)\n",
    "print(np.sqrt(mean_squared_error(y_train,GB_Train)))\n",
    "print(np.sqrt(mean_squared_error(y_test,GB_Test)))"
   ]
  },
  {
   "cell_type": "markdown",
   "metadata": {},
   "source": [
    "## Model 5 - Adaptive Boosting Regressor"
   ]
  },
  {
   "cell_type": "code",
   "execution_count": 144,
   "metadata": {},
   "outputs": [
    {
     "name": "stdout",
     "output_type": "stream",
     "text": [
      "17.99477837467795\n",
      "16.883669971567862\n"
     ]
    }
   ],
   "source": [
    "'''GSV5 =GridSearchCV(estimator=AdaBoostRegressor(),cv=10,param_grid=dict(n_estimators=np.arange(1,10,1))) \n",
    "GSV5.fit(X_train,y_train)\n",
    "print(GSV5.best_params_)'''\n",
    "AB = AdaBoostRegressor(n_estimators=1,random_state=42)\n",
    "AB.fit(X_train,y_train)\n",
    "AB_Train = AB.predict(X_train)\n",
    "AB_Test = AB.predict(X_test)\n",
    "print(np.sqrt(mean_squared_error(y_train,AB_Train)))\n",
    "print(np.sqrt(mean_squared_error(y_test,AB_Test)))"
   ]
  },
  {
   "cell_type": "code",
   "execution_count": 164,
   "metadata": {},
   "outputs": [],
   "source": [
    "test_data1 = test_data.drop(TobeDropped_Cols,axis=1)"
   ]
  },
  {
   "cell_type": "code",
   "execution_count": 146,
   "metadata": {},
   "outputs": [
    {
     "data": {
      "text/html": [
       "<div>\n",
       "<style scoped>\n",
       "    .dataframe tbody tr th:only-of-type {\n",
       "        vertical-align: middle;\n",
       "    }\n",
       "\n",
       "    .dataframe tbody tr th {\n",
       "        vertical-align: top;\n",
       "    }\n",
       "\n",
       "    .dataframe thead th {\n",
       "        text-align: right;\n",
       "    }\n",
       "</style>\n",
       "<table border=\"1\" class=\"dataframe\">\n",
       "  <thead>\n",
       "    <tr style=\"text-align: right;\">\n",
       "      <th></th>\n",
       "      <th>Deal_value</th>\n",
       "      <th>Weighted_amount</th>\n",
       "      <th>Pitch</th>\n",
       "      <th>Lead_revenue</th>\n",
       "      <th>Fund_category</th>\n",
       "      <th>Lead_source</th>\n",
       "      <th>Level_of_meeting</th>\n",
       "      <th>Resource</th>\n",
       "      <th>Internal_rating</th>\n",
       "    </tr>\n",
       "  </thead>\n",
       "  <tbody>\n",
       "    <tr>\n",
       "      <th>0</th>\n",
       "      <td>148175$</td>\n",
       "      <td>963137.5$</td>\n",
       "      <td>Product_1</td>\n",
       "      <td>500 Million - 1 Billion</td>\n",
       "      <td>Category 4</td>\n",
       "      <td>Contact Email</td>\n",
       "      <td>Level 2</td>\n",
       "      <td>Deliverable</td>\n",
       "      <td>3</td>\n",
       "    </tr>\n",
       "    <tr>\n",
       "      <th>1</th>\n",
       "      <td>273302$</td>\n",
       "      <td>1803793.2$</td>\n",
       "      <td>Product_1</td>\n",
       "      <td>50 - 100 Million</td>\n",
       "      <td>Category 1</td>\n",
       "      <td>Marketing Event</td>\n",
       "      <td>Level 3</td>\n",
       "      <td>Cannot deliver</td>\n",
       "      <td>1</td>\n",
       "    </tr>\n",
       "    <tr>\n",
       "      <th>2</th>\n",
       "      <td>185344$</td>\n",
       "      <td>1260339.2$</td>\n",
       "      <td>Product_2</td>\n",
       "      <td>50 - 100 Million</td>\n",
       "      <td>Category 1</td>\n",
       "      <td>Marketing Event</td>\n",
       "      <td>Level 3</td>\n",
       "      <td>Cannot deliver</td>\n",
       "      <td>3</td>\n",
       "    </tr>\n",
       "    <tr>\n",
       "      <th>3</th>\n",
       "      <td>189599$</td>\n",
       "      <td>1194473.7$</td>\n",
       "      <td>Product_1</td>\n",
       "      <td>500 Million - 1 Billion</td>\n",
       "      <td>Category 1</td>\n",
       "      <td>Others</td>\n",
       "      <td>Level 1</td>\n",
       "      <td>Not enough</td>\n",
       "      <td>3</td>\n",
       "    </tr>\n",
       "    <tr>\n",
       "      <th>4</th>\n",
       "      <td>379241$</td>\n",
       "      <td>2427142.4$</td>\n",
       "      <td>Product_1</td>\n",
       "      <td>50 - 100 Million</td>\n",
       "      <td>Category 1</td>\n",
       "      <td>Contact Email</td>\n",
       "      <td>Level 3</td>\n",
       "      <td>Yes</td>\n",
       "      <td>1</td>\n",
       "    </tr>\n",
       "    <tr>\n",
       "      <th>...</th>\n",
       "      <td>...</td>\n",
       "      <td>...</td>\n",
       "      <td>...</td>\n",
       "      <td>...</td>\n",
       "      <td>...</td>\n",
       "      <td>...</td>\n",
       "      <td>...</td>\n",
       "      <td>...</td>\n",
       "      <td>...</td>\n",
       "    </tr>\n",
       "    <tr>\n",
       "      <th>1397</th>\n",
       "      <td>17126$</td>\n",
       "      <td>105324.9$</td>\n",
       "      <td>Product_2</td>\n",
       "      <td>100 - 500 Million</td>\n",
       "      <td>Category 3</td>\n",
       "      <td>Marketing Event</td>\n",
       "      <td>Level 3</td>\n",
       "      <td>Yes</td>\n",
       "      <td>2</td>\n",
       "    </tr>\n",
       "    <tr>\n",
       "      <th>1398</th>\n",
       "      <td>371988$</td>\n",
       "      <td>2641114.8$</td>\n",
       "      <td>Product_1</td>\n",
       "      <td>100 - 500 Million</td>\n",
       "      <td>Category 1</td>\n",
       "      <td>Website</td>\n",
       "      <td>Level 3</td>\n",
       "      <td>We have all the requirements</td>\n",
       "      <td>5</td>\n",
       "    </tr>\n",
       "    <tr>\n",
       "      <th>1399</th>\n",
       "      <td>159358$</td>\n",
       "      <td>916308.5$</td>\n",
       "      <td>Product_1</td>\n",
       "      <td>50 - 100 Million</td>\n",
       "      <td>Category 2</td>\n",
       "      <td>Others</td>\n",
       "      <td>Level 2</td>\n",
       "      <td>Deliverable</td>\n",
       "      <td>3</td>\n",
       "    </tr>\n",
       "    <tr>\n",
       "      <th>1400</th>\n",
       "      <td>192001$</td>\n",
       "      <td>1276806.65$</td>\n",
       "      <td>Product_2</td>\n",
       "      <td>500 Million - 1 Billion</td>\n",
       "      <td>Category 4</td>\n",
       "      <td>Website</td>\n",
       "      <td>Level 2</td>\n",
       "      <td>We have all the requirements</td>\n",
       "      <td>4</td>\n",
       "    </tr>\n",
       "    <tr>\n",
       "      <th>1401</th>\n",
       "      <td>316675$</td>\n",
       "      <td>NaN</td>\n",
       "      <td>Product_2</td>\n",
       "      <td>100 - 500 Million</td>\n",
       "      <td>Category 2</td>\n",
       "      <td>Others</td>\n",
       "      <td>Level 3</td>\n",
       "      <td>Cannot deliver</td>\n",
       "      <td>1</td>\n",
       "    </tr>\n",
       "  </tbody>\n",
       "</table>\n",
       "<p>1402 rows × 9 columns</p>\n",
       "</div>"
      ],
      "text/plain": [
       "     Deal_value Weighted_amount      Pitch             Lead_revenue  \\\n",
       "0       148175$       963137.5$  Product_1  500 Million - 1 Billion   \n",
       "1       273302$      1803793.2$  Product_1         50 - 100 Million   \n",
       "2       185344$      1260339.2$  Product_2         50 - 100 Million   \n",
       "3       189599$      1194473.7$  Product_1  500 Million - 1 Billion   \n",
       "4       379241$      2427142.4$  Product_1         50 - 100 Million   \n",
       "...         ...             ...        ...                      ...   \n",
       "1397     17126$       105324.9$  Product_2        100 - 500 Million   \n",
       "1398    371988$      2641114.8$  Product_1        100 - 500 Million   \n",
       "1399    159358$       916308.5$  Product_1         50 - 100 Million   \n",
       "1400    192001$     1276806.65$  Product_2  500 Million - 1 Billion   \n",
       "1401    316675$             NaN  Product_2        100 - 500 Million   \n",
       "\n",
       "     Fund_category      Lead_source Level_of_meeting  \\\n",
       "0       Category 4    Contact Email          Level 2   \n",
       "1       Category 1  Marketing Event          Level 3   \n",
       "2       Category 1  Marketing Event          Level 3   \n",
       "3       Category 1           Others          Level 1   \n",
       "4       Category 1    Contact Email          Level 3   \n",
       "...            ...              ...              ...   \n",
       "1397    Category 3  Marketing Event          Level 3   \n",
       "1398    Category 1          Website          Level 3   \n",
       "1399    Category 2           Others          Level 2   \n",
       "1400    Category 4          Website          Level 2   \n",
       "1401    Category 2           Others          Level 3   \n",
       "\n",
       "                          Resource  Internal_rating  \n",
       "0                      Deliverable                3  \n",
       "1                   Cannot deliver                1  \n",
       "2                   Cannot deliver                3  \n",
       "3                       Not enough                3  \n",
       "4                              Yes                1  \n",
       "...                            ...              ...  \n",
       "1397                           Yes                2  \n",
       "1398  We have all the requirements                5  \n",
       "1399                   Deliverable                3  \n",
       "1400  We have all the requirements                4  \n",
       "1401                Cannot deliver                1  \n",
       "\n",
       "[1402 rows x 9 columns]"
      ]
     },
     "execution_count": 146,
     "metadata": {},
     "output_type": "execute_result"
    }
   ],
   "source": [
    "test_data1"
   ]
  },
  {
   "cell_type": "code",
   "execution_count": 165,
   "metadata": {},
   "outputs": [],
   "source": [
    "test_data1['Deal_value']=test_data1['Deal_value'].str.replace(\"$\",\"\").astype(float)\n",
    "test_data1['Weighted_amount']=test_data1['Weighted_amount'].str.replace(\"$\",\"\").astype(float)"
   ]
  },
  {
   "cell_type": "code",
   "execution_count": 166,
   "metadata": {},
   "outputs": [],
   "source": [
    "Missingcolumns = test_data1[test_data1.columns[test_data1.isnull().sum()>0]].columns"
   ]
  },
  {
   "cell_type": "code",
   "execution_count": 167,
   "metadata": {},
   "outputs": [
    {
     "data": {
      "text/plain": [
       "Index(['Deal_value', 'Weighted_amount', 'Resource'], dtype='object')"
      ]
     },
     "execution_count": 167,
     "metadata": {},
     "output_type": "execute_result"
    }
   ],
   "source": [
    "Missingcolumns"
   ]
  },
  {
   "cell_type": "code",
   "execution_count": 168,
   "metadata": {},
   "outputs": [],
   "source": [
    "test_data1['Deal_value'].fillna(test_data1['Deal_value'].median(),inplace=True)\n",
    "test_data1['Weighted_amount'].fillna(test_data1['Weighted_amount'].median(),inplace=True)\n",
    "test_data1['Resource'].fillna(test_data1['Resource'].mode()[0],inplace=True)"
   ]
  },
  {
   "cell_type": "code",
   "execution_count": 169,
   "metadata": {},
   "outputs": [
    {
     "data": {
      "text/plain": [
       "False"
      ]
     },
     "execution_count": 169,
     "metadata": {},
     "output_type": "execute_result"
    }
   ],
   "source": [
    "test_data1.isnull().sum().any()"
   ]
  },
  {
   "cell_type": "code",
   "execution_count": 170,
   "metadata": {},
   "outputs": [],
   "source": [
    "test_data1=pd.get_dummies(test_data1,drop_first=True)"
   ]
  },
  {
   "cell_type": "code",
   "execution_count": 171,
   "metadata": {},
   "outputs": [],
   "source": [
    "test_data1[test_data1.columns] = SS.fit_transform(test_data1)"
   ]
  },
  {
   "cell_type": "code",
   "execution_count": 172,
   "metadata": {},
   "outputs": [],
   "source": [
    "pred_values_test = GSV3.predict(test_data1)"
   ]
  },
  {
   "cell_type": "code",
   "execution_count": 178,
   "metadata": {},
   "outputs": [
    {
     "data": {
      "text/plain": [
       "58.52105363858914"
      ]
     },
     "execution_count": 178,
     "metadata": {},
     "output_type": "execute_result"
    }
   ],
   "source": [
    "np.min(pred_values_test)"
   ]
  },
  {
   "cell_type": "code",
   "execution_count": 179,
   "metadata": {},
   "outputs": [
    {
     "data": {
      "text/plain": [
       "Index(['Deal_title', 'Lead_name', 'Industry', 'Deal_value', 'Weighted_amount',\n",
       "       'Date_of_creation', 'Pitch', 'Contact_no', 'Lead_revenue',\n",
       "       'Fund_category', 'Geography', 'Location', 'POC_name', 'Designation',\n",
       "       'Lead_POC_email', 'Hiring_candidate_role', 'Lead_source',\n",
       "       'Level_of_meeting', 'Last_lead_update', 'Internal_POC', 'Resource',\n",
       "       'Internal_rating'],\n",
       "      dtype='object')"
      ]
     },
     "execution_count": 179,
     "metadata": {},
     "output_type": "execute_result"
    }
   ],
   "source": [
    "test_data.columns"
   ]
  },
  {
   "cell_type": "code",
   "execution_count": 180,
   "metadata": {},
   "outputs": [],
   "source": [
    "finaop = pd.DataFrame(test_data['Deal_title'])"
   ]
  },
  {
   "cell_type": "code",
   "execution_count": 182,
   "metadata": {},
   "outputs": [],
   "source": [
    "finaop['pred_values'] = pred_values_test"
   ]
  },
  {
   "cell_type": "code",
   "execution_count": 183,
   "metadata": {},
   "outputs": [],
   "source": [
    "finaop.to_csv('submission.csv',header=False,index=False)"
   ]
  },
  {
   "cell_type": "code",
   "execution_count": null,
   "metadata": {},
   "outputs": [],
   "source": []
  }
 ],
 "metadata": {
  "kernelspec": {
   "display_name": "Python 3",
   "language": "python",
   "name": "python3"
  },
  "language_info": {
   "codemirror_mode": {
    "name": "ipython",
    "version": 3
   },
   "file_extension": ".py",
   "mimetype": "text/x-python",
   "name": "python",
   "nbconvert_exporter": "python",
   "pygments_lexer": "ipython3",
   "version": "3.8.5"
  }
 },
 "nbformat": 4,
 "nbformat_minor": 4
}
